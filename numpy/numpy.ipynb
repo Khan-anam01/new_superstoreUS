{
 "cells": [
  {
   "cell_type": "markdown",
   "id": "4713caac",
   "metadata": {},
   "source": [
    "# 1. Array Basics\n"
   ]
  },
  {
   "cell_type": "code",
   "execution_count": 1,
   "id": "8bcfe61d",
   "metadata": {},
   "outputs": [],
   "source": [
    "import numpy as np"
   ]
  },
  {
   "cell_type": "markdown",
   "id": "47c583d7",
   "metadata": {},
   "source": [
    "## Creating arrays from lists, ranges, and functions\n"
   ]
  },
  {
   "cell_type": "markdown",
   "id": "06ae3367",
   "metadata": {},
   "source": [
    "### creating an array from a list"
   ]
  },
  {
   "cell_type": "code",
   "execution_count": 2,
   "id": "c279add1",
   "metadata": {},
   "outputs": [
    {
     "name": "stdout",
     "output_type": "stream",
     "text": [
      "[1, 2, 3, 4, 5, 6, 7]\n",
      "[1, 2, 3, 4, 5, 6, 7]\n",
      "[0, 1, 2, 3, 4, 5]\n"
     ]
    }
   ],
   "source": [
    "arr = [1,2,3,4,5,6,7]\n",
    "print(arr)\n",
    "\n",
    "arr1 = []\n",
    "#creating an array from a for loop\n",
    "for _ in range(7):\n",
    "    arr1.append(_)\n",
    "print(arr)\n",
    "# creating an array from list comprehension\n",
    "arr2 = [_ for _ in range(6)]\n",
    "print(arr2)"
   ]
  },
  {
   "cell_type": "markdown",
   "id": "27725949",
   "metadata": {},
   "source": [
    "### create a list from a range"
   ]
  },
  {
   "cell_type": "code",
   "execution_count": 3,
   "id": "b010875a",
   "metadata": {},
   "outputs": [
    {
     "name": "stdout",
     "output_type": "stream",
     "text": [
      "[0, 1, 2, 3, 4, 5]\n",
      "[3, 4, 5, 6, 7, 8, 9]\n",
      "[1, 3]\n"
     ]
    }
   ],
   "source": [
    "# create a list from a range of the first 6 numbers\n",
    "arr2 = list(range(6))\n",
    "print(arr2)\n",
    "# creating a list from a range starting from 3 to 10\n",
    "arr3 = list(range(3,10))\n",
    "print(arr3)\n",
    "# creating a list from a range starting from 1 to 5 skiping every 2 digit\n",
    "arr4 = list(range(1,5,2))\n",
    "print(arr4)\n"
   ]
  },
  {
   "cell_type": "markdown",
   "id": "59253886",
   "metadata": {},
   "source": [
    "### create a list from a function"
   ]
  },
  {
   "cell_type": "code",
   "execution_count": 4,
   "id": "3f1e66b9",
   "metadata": {},
   "outputs": [
    {
     "name": "stdout",
     "output_type": "stream",
     "text": [
      "[2, 4, 6, 8, 10]\n"
     ]
    }
   ],
   "source": [
    "def num_add(x):\n",
    "    return x + x\n",
    "# creating an array by adding \n",
    "arr = [num_add(x) for x in range(1,6)]\n",
    "print(arr)"
   ]
  },
  {
   "cell_type": "markdown",
   "id": "1d3e253b",
   "metadata": {},
   "source": [
    "## Array attributes (shape, dtype, ndim)\n"
   ]
  },
  {
   "cell_type": "code",
   "execution_count": 5,
   "id": "3b49272d",
   "metadata": {},
   "outputs": [
    {
     "name": "stdout",
     "output_type": "stream",
     "text": [
      "[ 2.  4.  6.  8. 10.]\n",
      "(5,)\n",
      "5\n",
      "4\n",
      "float32\n",
      "1\n",
      "20\n"
     ]
    }
   ],
   "source": [
    "# initializing an array using numpy and passing a list to it\n",
    "new_arr = np.array(arr, dtype='float32')\n",
    "print(new_arr)\n",
    "\n",
    "#show the dimension of the numpy array i.e., if its a one, two or three dimensional array\n",
    "print(new_arr.shape)\n",
    "# shows how many values the array has\n",
    "print(new_arr.size)\n",
    "# shows how many byte a single values accupys in memory\n",
    "print(new_arr.itemsize)\n",
    "# show the datatype \n",
    "print(new_arr.dtype)\n",
    "#shows how many demensions the array has\n",
    "print(new_arr.ndim)\n",
    "# shows the total amount of bytes the array occupy in memory\n",
    "print(new_arr.nbytes)"
   ]
  },
  {
   "cell_type": "markdown",
   "id": "aea9bc91",
   "metadata": {},
   "source": [
    "## Array vs Python lists performance"
   ]
  },
  {
   "cell_type": "code",
   "execution_count": 6,
   "id": "c65962c9",
   "metadata": {},
   "outputs": [
    {
     "name": "stdout",
     "output_type": "stream",
     "text": [
      "64.90316860000166\n"
     ]
    }
   ],
   "source": [
    "import time\n",
    "\n",
    "ARRAY_SIZE = 10_0000_000 # Ten million elements\n",
    "\n",
    "# Create two large Python lists\n",
    "list_1 = list(range(ARRAY_SIZE))\n",
    "list_2 = list(range(ARRAY_SIZE))\n",
    "\n",
    "start_time = time.perf_counter()\n",
    "\n",
    "result_list = [list_1[i] + list_2[i] for i in range(ARRAY_SIZE)]\n",
    "\n",
    "end_time = time.perf_counter()\n",
    "time_taken = end_time - start_time\n",
    "\n",
    "print(time_taken)\n",
    "\n"
   ]
  },
  {
   "cell_type": "code",
   "execution_count": 7,
   "id": "60337c60",
   "metadata": {},
   "outputs": [
    {
     "name": "stdout",
     "output_type": "stream",
     "text": [
      "1.379756\n"
     ]
    }
   ],
   "source": [
    "\n",
    "numpy_array_1 = np.arange(ARRAY_SIZE)\n",
    "numpy_array_2 = np.arange(ARRAY_SIZE)\n",
    "\n",
    "start_time = time.perf_counter()\n",
    "\n",
    "result_array = numpy_array_1 + numpy_array_2\n",
    "\n",
    "end_time = time.perf_counter()\n",
    "time_taken = end_time - start_time\n",
    "\n",
    "print(f\"{time_taken:.6f}\")"
   ]
  }
 ],
 "metadata": {
  "kernelspec": {
   "display_name": "Python 3",
   "language": "python",
   "name": "python3"
  },
  "language_info": {
   "codemirror_mode": {
    "name": "ipython",
    "version": 3
   },
   "file_extension": ".py",
   "mimetype": "text/x-python",
   "name": "python",
   "nbconvert_exporter": "python",
   "pygments_lexer": "ipython3",
   "version": "3.13.4"
  }
 },
 "nbformat": 4,
 "nbformat_minor": 5
}
